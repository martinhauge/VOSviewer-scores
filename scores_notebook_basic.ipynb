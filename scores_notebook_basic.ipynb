{
 "cells": [
  {
   "cell_type": "markdown",
   "metadata": {},
   "source": [
    "# VOSviewer Scores Notebook (Basic version)\n",
    "The basic version of the VOSviewer scores notebook lets you generate scores and corpus files for VOSviewer by calling a single function.\n",
    "\n",
    "After running the import statement and defining the user variables, simply run the `generate_files()` function.\n",
    "\n",
    "#### Input files\n",
    "The programme can handle any number of input files from the same search. The file format differs depending on the citation base. When exporting references choose the following settings:\n",
    "- Web of science: Tab-delimited (Win)\n",
    "- Scopus: CSV Excel\n",
    "- Proquest: XLS\n",
    "\n",
    "Remember to include title, abstract and the desired scores value (default: source) in the export.\n",
    "\n",
    "For detailed information and options on file formats and file encodings consult `reftypes.py`."
   ]
  },
  {
   "cell_type": "markdown",
   "metadata": {},
   "source": [
    "### Setup\n",
    "Import required packages/dependencies."
   ]
  },
  {
   "cell_type": "code",
   "execution_count": null,
   "metadata": {
    "scrolled": true
   },
   "outputs": [],
   "source": [
    "import os\n",
    "from helpers import generate_files"
   ]
  },
  {
   "cell_type": "markdown",
   "metadata": {},
   "source": [
    "Define user variables."
   ]
  },
  {
   "cell_type": "code",
   "execution_count": null,
   "metadata": {},
   "outputs": [],
   "source": [
    "# *** REQUIRED ***\n",
    "\n",
    "# Set path pointing towards input file or folder.\n",
    "USER_INPUT = ''\n",
    "\n",
    "# Set name for output files without file extension.\n",
    "OUTPUT_NAME = ''\n",
    "\n",
    "\n",
    "# *** OPTIONS ***\n",
    "\n",
    "# Set citation base key - default: Web of Science (see reftypes.py for options).\n",
    "BASE = 'wos'\n",
    "\n",
    "# Set scores value key - default: source (see reftypes.py for options).\n",
    "VAL = 'py'\n",
    "\n",
    "# Path for output - default: .\\data\\output\\ - Note: If not found folders are auto-generated.\n",
    "OUTPUT_PATH = os.path.join('data', 'output')\n",
    "\n",
    "# If USER_INPUT is a folder set ALL to True to include all files without asking.\n",
    "ALL = False\n",
    "\n",
    "# Set SKIP to True to skip creation of corpus file. Useful if several scores files are generated for the same input.\n",
    "SKIP = False\n",
    "\n",
    "# Bucketise numeric range - e.g. publication year - at specific interval (default: 5 years).\n",
    "BUCKETS = False\n",
    "INTERVAL = 5\n",
    "\n",
    "# *** SETUP ***\n",
    "\n",
    "# Debug mode: runs the programme without saving output to files.\n",
    "DEBUG = False"
   ]
  },
  {
   "cell_type": "markdown",
   "metadata": {},
   "source": [
    "### Execution\n",
    "After setting up the variables run the `generate_files()` function below."
   ]
  },
  {
   "cell_type": "code",
   "execution_count": null,
   "metadata": {
    "scrolled": true
   },
   "outputs": [],
   "source": [
    "generate_files(USER_INPUT, OUTPUT_NAME, OUTPUT_PATH, VAL, BASE, ALL, SKIP, BUCKETS, INTERVAL, DEBUG)"
   ]
  }
 ],
 "metadata": {
  "kernelspec": {
   "display_name": "Python 3",
   "language": "python",
   "name": "python3"
  },
  "language_info": {
   "codemirror_mode": {
    "name": "ipython",
    "version": 3
   },
   "file_extension": ".py",
   "mimetype": "text/x-python",
   "name": "python",
   "nbconvert_exporter": "python",
   "pygments_lexer": "ipython3",
   "version": "3.7.2"
  }
 },
 "nbformat": 4,
 "nbformat_minor": 2
}
